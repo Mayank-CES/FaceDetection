{
 "cells": [
  {
   "cell_type": "markdown",
   "metadata": {
    "id": "-DeXKmcjLl89"
   },
   "source": [
    "# Face detection"
   ]
  },
  {
   "cell_type": "markdown",
   "metadata": {
    "id": "NgQKD4_BSOPP"
   },
   "source": [
    "## OpenCV"
   ]
  },
  {
   "cell_type": "markdown",
   "metadata": {
    "id": "w8zOtNhKLp-Z"
   },
   "source": [
    "### Loading the image"
   ]
  },
  {
   "cell_type": "code",
   "execution_count": 1,
   "metadata": {},
   "outputs": [
    {
     "name": "stdout",
     "output_type": "stream",
     "text": [
      "Collecting opencv-python\n",
      "  Downloading opencv_python-4.5.3.56-cp38-cp38-manylinux2014_x86_64.whl (49.9 MB)\n",
      "\u001b[K     |████████████████████████████████| 49.9 MB 29 kB/s  eta 0:00:01     |██████████████▌                 | 22.6 MB 259 kB/s eta 0:01:46\n",
      "\u001b[?25hRequirement already satisfied: numpy>=1.17.3 in /home/sakshi/anaconda3/lib/python3.8/site-packages (from opencv-python) (1.18.5)\n",
      "Installing collected packages: opencv-python\n",
      "Successfully installed opencv-python-4.5.3.56\n",
      "Note: you may need to restart the kernel to use updated packages.\n"
     ]
    }
   ],
   "source": [
    "pip install opencv-python\n"
   ]
  },
  {
   "cell_type": "code",
   "execution_count": 1,
   "metadata": {
    "id": "oge5c1WGoOk_"
   },
   "outputs": [],
   "source": [
    "import cv2"
   ]
  },
  {
   "cell_type": "code",
   "execution_count": 2,
   "metadata": {
    "colab": {
     "base_uri": "https://localhost:8080/"
    },
    "id": "RzIQxeXFpWqM",
    "outputId": "a99d82ed-d30e-4c93-ef29-ea4d277e7d9a"
   },
   "outputs": [
    {
     "data": {
      "text/plain": [
       "(408, 612, 3)"
      ]
     },
     "execution_count": 2,
     "metadata": {},
     "output_type": "execute_result"
    }
   ],
   "source": [
    "img = cv2.imread('img1.jpg')\n",
    "img.shape"
   ]
  },
  {
   "cell_type": "code",
   "execution_count": 3,
   "metadata": {
    "colab": {
     "base_uri": "https://localhost:8080/",
     "height": 425
    },
    "id": "V75wQ_nfp3fj",
    "outputId": "be1ec65f-d181-4a9e-8a41-a1951bf91959"
   },
   "outputs": [],
   "source": [
    "cv2.imshow('Face Detection',img)\n",
    "cv2.waitKey(0)\n",
    "cv2.destroyAllWindows()"
   ]
  },
  {
   "cell_type": "code",
   "execution_count": 4,
   "metadata": {
    "colab": {
     "base_uri": "https://localhost:8080/"
    },
    "id": "FevKD0VuqZtg",
    "outputId": "037809e2-2c5c-451f-890d-3adfaa426045"
   },
   "outputs": [
    {
     "data": {
      "text/plain": [
       "(400, 600, 3)"
      ]
     },
     "execution_count": 4,
     "metadata": {},
     "output_type": "execute_result"
    }
   ],
   "source": [
    "img = cv2.resize(img, (600, 400))\n",
    "img.shape"
   ]
  },
  {
   "cell_type": "code",
   "execution_count": 5,
   "metadata": {
    "colab": {
     "base_uri": "https://localhost:8080/",
     "height": 417
    },
    "id": "NoFvhCs6rfFE",
    "outputId": "00659d10-590b-4cdb-f2e9-d417644f6ccf"
   },
   "outputs": [],
   "source": [
    "img_gray = cv2.cvtColor(img, cv2.COLOR_BGR2GRAY)\n",
    "cv2.imshow('gray image',img_gray)\n",
    "cv2.waitKey(0)\n",
    "cv2.destroyAllWindows()"
   ]
  },
  {
   "cell_type": "markdown",
   "metadata": {
    "id": "2k3yuCEM06FJ"
   },
   "source": [
    "### Detecting faces"
   ]
  },
  {
   "cell_type": "code",
   "execution_count": 6,
   "metadata": {
    "id": "482m3RTusekf"
   },
   "outputs": [],
   "source": [
    "face_detector = cv2.CascadeClassifier('haarcascade_frontalface_default.xml')"
   ]
  },
  {
   "cell_type": "code",
   "execution_count": 7,
   "metadata": {
    "colab": {
     "base_uri": "https://localhost:8080/",
     "height": 417
    },
    "id": "m4nkBCeCvJAy",
    "outputId": "e809892a-9967-468b-a321-429c99b7e1af"
   },
   "outputs": [],
   "source": [
    "detection = face_detector.detectMultiScale(img_gray)\n",
    "for (x, y, a, b) in detection:\n",
    "  cv2.rectangle(img, (x, y), (x + a, y + b), (0,255,255), 5)\n",
    "cv2.imshow('Face Detection',img)\n",
    "cv2.waitKey(0)\n",
    "cv2.destroyAllWindows()\n"
   ]
  },
  {
   "cell_type": "markdown",
   "metadata": {
    "id": "37itAmjd1AGm"
   },
   "source": [
    "### Haarcascade parameters"
   ]
  },
  {
   "cell_type": "code",
   "execution_count": 8,
   "metadata": {
    "colab": {
     "base_uri": "https://localhost:8080/",
     "height": 417
    },
    "id": "DxiATRqPx8-e",
    "outputId": "cfb618f5-111d-48bc-d5b5-2b48f1e8be69"
   },
   "outputs": [],
   "source": [
    "img = cv2.imread('img1.jpg')\n",
    "img = cv2.resize(img, (600, 400))\n",
    "img_gray = cv2.cvtColor(img, cv2.COLOR_BGR2GRAY)\n",
    "detection = face_detector.detectMultiScale(img_gray, scaleFactor = 1.29)\n",
    "for (x, y, a, b) in detection:\n",
    "  cv2.rectangle(img, (x, y), (x + a, y + b), (0,255,0), 5)\n",
    "cv2.imshow('Face Detection',img)\n",
    "cv2.waitKey(0)\n",
    "cv2.destroyAllWindows()"
   ]
  },
  {
   "cell_type": "markdown",
   "metadata": {
    "id": "6oygEIxYOlri"
   },
   "source": [
    "#### Cars"
   ]
  },
  {
   "cell_type": "code",
   "execution_count": 9,
   "metadata": {
    "colab": {
     "base_uri": "https://localhost:8080/",
     "height": 684
    },
    "id": "hI0et3YaOF7D",
    "outputId": "f77f9d4a-154e-49ec-8568-c8f7e54cc23c"
   },
   "outputs": [],
   "source": [
    "car_detector = cv2.CascadeClassifier('cars.xml')\n",
    "img = cv2.imread('img3.jpeg')\n",
    "img_gray = cv2.cvtColor(img, cv2.COLOR_BGR2GRAY)\n",
    "detection = car_detector.detectMultiScale(img_gray, scaleFactor = 1.03, minNeighbors=6)                                      \n",
    "for (x, y, a, b) in detection:\n",
    "  cv2.rectangle(img, (x, y), (x + a, y + b), (0,255,0), 2)\n",
    "cv2.imshow('Car Detection',img)\n",
    "cv2.waitKey(0)\n",
    "cv2.destroyAllWindows()"
   ]
  },
  {
   "cell_type": "markdown",
   "metadata": {
    "id": "Vw1aTLB6SdP2"
   },
   "source": [
    "## Dlib"
   ]
  },
  {
   "cell_type": "code",
   "execution_count": 10,
   "metadata": {
    "id": "CPX-q-Gl8OxW"
   },
   "outputs": [],
   "source": [
    "import dlib"
   ]
  },
  {
   "cell_type": "markdown",
   "metadata": {
    "id": "Z6Dh_9PRmRrV"
   },
   "source": [
    "### Detecting faces with HOG"
   ]
  },
  {
   "cell_type": "code",
   "execution_count": 11,
   "metadata": {
    "colab": {
     "base_uri": "https://localhost:8080/",
     "height": 434
    },
    "id": "Re7qxFbs8XjH",
    "outputId": "b00cf794-b3fa-4d12-f153-c0f3af92a9da"
   },
   "outputs": [],
   "source": [
    "img = cv2.imread('img4.jpg')\n",
    "cv2.imshow('Face Detection',img)\n",
    "cv2.waitKey(0)\n",
    "cv2.destroyAllWindows()"
   ]
  },
  {
   "cell_type": "code",
   "execution_count": 12,
   "metadata": {
    "colab": {
     "base_uri": "https://localhost:8080/",
     "height": 434
    },
    "id": "9jlJ_ZE_-Dsa",
    "outputId": "6d2cd9c5-9a92-4afe-f443-35440656aea8"
   },
   "outputs": [],
   "source": [
    "face_detector_hog = dlib.get_frontal_face_detector()\n",
    "detection = face_detector_hog(img, 1)\n",
    "detection, len(detection)\n",
    "for face in detection:\n",
    "  x, y, a, b = face.left(), face.top(), face.right(), face.bottom()\n",
    "  cv2.rectangle(img, (x, y), (a, b), (0, 255, 255), 2)\n",
    "cv2.imshow('Face Detection',img)\n",
    "cv2.waitKey(0)\n",
    "cv2.destroyAllWindows()"
   ]
  },
  {
   "cell_type": "markdown",
   "metadata": {
    "id": "xEep_Wldqzwg"
   },
   "source": [
    "### Detecting faces with CNN (Convolutional Neural Networks)"
   ]
  },
  {
   "cell_type": "code",
   "execution_count": 13,
   "metadata": {
    "id": "HrP7vHgwBnlv"
   },
   "outputs": [],
   "source": [
    "img = cv2.imread('img5.jpg')\n",
    "cnn_detector = dlib.cnn_face_detection_model_v1('mmod_human_face_detector.dat')\n",
    "cv2.imshow('Face Detection',img)\n",
    "cv2.waitKey(0)\n",
    "cv2.destroyAllWindows()"
   ]
  },
  {
   "cell_type": "code",
   "execution_count": 14,
   "metadata": {
    "colab": {
     "base_uri": "https://localhost:8080/",
     "height": 554
    },
    "id": "uk6xM1RGCdR3",
    "outputId": "862ae33b-98e7-4a52-f5d6-5104a16f685a"
   },
   "outputs": [],
   "source": [
    "detection = cnn_detector(img, 1)\n",
    "for face in detection:\n",
    "  x, y, a, b, c = face.rect.left(), face.rect.top(), face.rect.right(), face.rect.bottom(), face.confidence\n",
    "  cv2.rectangle(img, (x, y), (a, b), (255, 255, 0), 2)\n",
    "cv2.imshow('Face Detection',img)\n",
    "cv2.waitKey(0)\n",
    "cv2.destroyAllWindows()"
   ]
  },
  {
   "cell_type": "code",
   "execution_count": null,
   "metadata": {},
   "outputs": [],
   "source": []
  }
 ],
 "metadata": {
  "accelerator": "GPU",
  "colab": {
   "collapsed_sections": [],
   "name": "Face detection.ipynb",
   "provenance": []
  },
  "kernelspec": {
   "display_name": "Python 3",
   "language": "python",
   "name": "python3"
  },
  "language_info": {
   "codemirror_mode": {
    "name": "ipython",
    "version": 3
   },
   "file_extension": ".py",
   "mimetype": "text/x-python",
   "name": "python",
   "nbconvert_exporter": "python",
   "pygments_lexer": "ipython3",
   "version": "3.8.3"
  }
 },
 "nbformat": 4,
 "nbformat_minor": 1
}
